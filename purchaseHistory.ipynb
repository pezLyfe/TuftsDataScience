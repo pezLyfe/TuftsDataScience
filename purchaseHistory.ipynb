{
 "cells": [
  {
   "cell_type": "code",
   "execution_count": 1,
   "metadata": {},
   "outputs": [],
   "source": [
    "import os\n",
    "import pandas as pd\n",
    "import json\n",
    "import pandas as pd"
   ]
  },
  {
   "cell_type": "code",
   "execution_count": 45,
   "metadata": {},
   "outputs": [],
   "source": [
    "directory = r\"C:\\Users\\cmay\\Desktop\\Purchases _ Reservations\"\n",
    "jsonlist = []\n",
    "for filename in os.listdir(directory):\n",
    "    try: \n",
    "        with open(filename) as json_data:\n",
    "             t = json.load(json_data)\n",
    "    except:\n",
    "        t = 'na'\n",
    "    jsonlist.append(t)"
   ]
  },
  {
   "cell_type": "code",
   "execution_count": 46,
   "metadata": {},
   "outputs": [
    {
     "data": {
      "text/plain": [
       "396"
      ]
     },
     "execution_count": 46,
     "metadata": {},
     "output_type": "execute_result"
    }
   ],
   "source": [
    "len(jsonlist)"
   ]
  },
  {
   "cell_type": "code",
   "execution_count": 60,
   "metadata": {},
   "outputs": [],
   "source": [
    "merchantList = []\n",
    "errorFiles = []\n",
    "for i in range(len(jsonlist)):\n",
    "    try:\n",
    "        tempName = jsonlist[i]['transactionMerchant']\n",
    "    except:\n",
    "        tempName = i\n",
    "    merchantList.append(tempName)"
   ]
  },
  {
   "cell_type": "code",
   "execution_count": 65,
   "metadata": {},
   "outputs": [
    {
     "data": {
      "text/plain": [
       "int"
      ]
     },
     "execution_count": 65,
     "metadata": {},
     "output_type": "execute_result"
    }
   ],
   "source": [
    "type(merchantList[1])"
   ]
  },
  {
   "cell_type": "code",
   "execution_count": 103,
   "metadata": {},
   "outputs": [],
   "source": [
    "merchantList\n",
    "errorIndex = []\n",
    "goodEntries = []\n",
    "index = []\n",
    "for i in range(len(merchantList)):\n",
    "    if type(merchantList[i]) == int:\n",
    "        index = i\n",
    "        errorIndex.append(index)\n",
    "    else:\n",
    "        goodEntries.append(i)"
   ]
  },
  {
   "cell_type": "code",
   "execution_count": 104,
   "metadata": {},
   "outputs": [
    {
     "data": {
      "text/plain": [
       "{'name': 'Delta'}"
      ]
     },
     "execution_count": 104,
     "metadata": {},
     "output_type": "execute_result"
    }
   ],
   "source": [
    "jsonlist[errorIndex[0]]['lineItem'][0]['provider']"
   ]
  },
  {
   "cell_type": "code",
   "execution_count": 107,
   "metadata": {},
   "outputs": [],
   "source": [
    "flightProviders = []\n",
    "newErrors = []\n",
    "for i in range(len(errorIndex)):\n",
    "    try:\n",
    "        nameCheck = jsonlist[errorIndex[i]]['lineItem'][0]['provider']\n",
    "    except:\n",
    "        newErrors.append(i)\n",
    "    flightProviders.append(nameCheck)"
   ]
  },
  {
   "cell_type": "code",
   "execution_count": 117,
   "metadata": {},
   "outputs": [
    {
     "data": {
      "text/plain": [
       "95"
      ]
     },
     "execution_count": 117,
     "metadata": {},
     "output_type": "execute_result"
    }
   ],
   "source": [
    "len(flightProviders)"
   ]
  },
  {
   "cell_type": "code",
   "execution_count": 118,
   "metadata": {},
   "outputs": [
    {
     "data": {
      "text/plain": [
       "7"
      ]
     },
     "execution_count": 118,
     "metadata": {},
     "output_type": "execute_result"
    }
   ],
   "source": [
    "len(newErrors)"
   ]
  },
  {
   "cell_type": "code",
   "execution_count": 116,
   "metadata": {},
   "outputs": [
    {
     "data": {
      "text/plain": [
       "{'customer': {},\n",
       " 'lineItem': [{'provider': {'name': 'United'},\n",
       "   'flightReservation': {'status': 'CONFIRMED',\n",
       "    'flightLeg': {'flightHeader': {'carrier': {'code': 'UA', 'name': 'United'},\n",
       "      'flightNumber': {'number': 6045},\n",
       "      'operatingCarrier': {'name': 'MESA AIRLINES'}},\n",
       "     'flightStatus': {'departureTime': {'usecSinceEpochUtc': '1489202100000000',\n",
       "       'granularity': 'SECOND',\n",
       "       'utcTimezoneOffsetMinutes': -300},\n",
       "      'arrivalTime': {'usecSinceEpochUtc': '1489212120000000',\n",
       "       'granularity': 'SECOND',\n",
       "       'utcTimezoneOffsetMinutes': -360}},\n",
       "     'departureAirport': {'code': {'code': 'IAD'},\n",
       "      'servesCity': {'name': 'Washington, D.C.'},\n",
       "      'location': {'latE7': 389531162,\n",
       "       'lngE7': -774565388,\n",
       "       'address': ['1 Saarinen Cir, Dulles, Virginia 20166, United States'],\n",
       "       'name': 'Dulles International Airport'},\n",
       "      'servesCountry': {'name': [{'value': 'United States'}],\n",
       "       'countryNameCode': 'US'}},\n",
       "     'arrivalAirport': {'code': {'code': 'MSY'},\n",
       "      'servesCity': {'name': 'New Orleans'},\n",
       "      'location': {'latE7': 299922012,\n",
       "       'lngE7': -902590112,\n",
       "       'address': ['900 Airline Dr, Kenner, LA 70062, United States'],\n",
       "       'name': 'Louis Armstrong New Orleans International Airport'},\n",
       "      'servesCountry': {'name': [{'value': 'United States'}],\n",
       "       'countryNameCode': 'US'}}},\n",
       "    'passengerInfo': [{'passengerName': 'CHRISTOPHERRAYMOND MAY',\n",
       "      'seatNumber': '24C',\n",
       "      'seatClass': 'United Economy (W)',\n",
       "      'ticketNumber': '0162337444211',\n",
       "      'frequentFlyer': 'UA-XXXXX596',\n",
       "      'securityProgram': 'NOT_APPLICABLE'}],\n",
       "    'confirmationCode': ['I3LWCC'],\n",
       "    'bookingTimestamp': {'usecSinceEpochUtc': '1487973717000000',\n",
       "     'granularity': 'MILLISECOND'},\n",
       "    'webCheckinTime': {}}}]}"
      ]
     },
     "execution_count": 116,
     "metadata": {},
     "output_type": "execute_result"
    }
   ],
   "source": [
    "jsonlist[80]"
   ]
  },
  {
   "cell_type": "code",
   "execution_count": null,
   "metadata": {},
   "outputs": [],
   "source": []
  }
 ],
 "metadata": {
  "kernelspec": {
   "display_name": "Python 3",
   "language": "python",
   "name": "python3"
  },
  "language_info": {
   "codemirror_mode": {
    "name": "ipython",
    "version": 3
   },
   "file_extension": ".py",
   "mimetype": "text/x-python",
   "name": "python",
   "nbconvert_exporter": "python",
   "pygments_lexer": "ipython3",
   "version": "3.7.1"
  }
 },
 "nbformat": 4,
 "nbformat_minor": 2
}
